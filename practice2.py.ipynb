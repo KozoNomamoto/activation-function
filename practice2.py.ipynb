{
 "cells": [
  {
   "cell_type": "markdown",
   "metadata": {},
   "source": [
    "# 活性化関数\n",
    "***\n",
    "# 目的\n",
    "***\n",
    "- ソースコードの理解。\n",
    "- 式を見てソースコードが書けるようにする。\n",
    "- 自分が書いたソースコードは人に説明できるようにする。\n",
    "- 今回は活性化関数を使って自分の理解度を測る。\n",
    "## 活性化関数一覧\n",
    "***\n",
    "- step関数\n",
    "- シグモイド関数\n",
    "- ReLU関数\n",
    "- 恒等関数\n",
    "- ソフトマックス関数\n",
    "- Leaky ReLU関数\n",
    "- Parametric ReLU関数\n",
    "- Exponential Linear Units\n",
    "## 今回のルール\n",
    "***\n",
    "- 何も見ずに式をソースコード化し説明文章も加える。\n",
    "- わからない・間違えた箇所は消さない。\n",
    "- 全部できたらGitにpushし、間違えた箇所があれば修正する。<br>\n",
    "<br>\n",
    "今回は第1回目の自主テストになるが今後もアウトプットを増やしていく。"
   ]
  },
  {
   "cell_type": "markdown",
   "metadata": {},
   "source": [
    "# step関数\n",
    "***\n",
    "$\n",
    "f(x) = \\left\\{\n",
    "\\begin{array}{}\n",
    "0 & (x < 0)\\\\\n",
    "1 & (x \\geqq 0)\n",
    "\\end{array}\n",
    "\\right.\n",
    "$"
   ]
  },
  {
   "cell_type": "code",
   "execution_count": 6,
   "metadata": {},
   "outputs": [
    {
     "name": "stdout",
     "output_type": "stream",
     "text": [
      "1.0\n"
     ]
    }
   ],
   "source": [
    "import numpy as np\n",
    "\n",
    "# step関数の定義\n",
    "def step_function(x):\n",
    "    y = 1.0*(x >= 0.0)\n",
    "    return y\n",
    "\n",
    "# x = 10の時\n",
    "x = 10\n",
    "y = step_function(x)\n",
    "print(y)"
   ]
  },
  {
   "cell_type": "code",
   "execution_count": 7,
   "metadata": {},
   "outputs": [
    {
     "data": {
      "text/plain": [
       "0.0"
      ]
     },
     "execution_count": 7,
     "metadata": {},
     "output_type": "execute_result"
    }
   ],
   "source": [
    "# x = -3の時\n",
    "step_function(-3)"
   ]
  },
  {
   "cell_type": "markdown",
   "metadata": {},
   "source": [
    "**step関数は、入力した値が0未満なら0が出力され、入力した値が0以上なら1が出力される関数。**"
   ]
  },
  {
   "cell_type": "markdown",
   "metadata": {},
   "source": [
    "# sigmoid関数\n",
    "***\n",
    "$\n",
    "h(x) = \\frac{1}{1 + e^{-x}}\\\\\n",
    "$"
   ]
  },
  {
   "cell_type": "code",
   "execution_count": 8,
   "metadata": {
    "scrolled": false
   },
   "outputs": [
    {
     "name": "stdout",
     "output_type": "stream",
     "text": [
      "0.8807970779778823\n"
     ]
    }
   ],
   "source": [
    "import numpy as np\n",
    "\n",
    "# simoid関数の定義\n",
    "def sigmoid(x):\n",
    "    y = 1 / (1 + np.exp(-x))\n",
    "    return y\n",
    "\n",
    "# x = 2の時\n",
    "x = 2\n",
    "y = sigmoid(x)\n",
    "print(y)"
   ]
  },
  {
   "cell_type": "code",
   "execution_count": 10,
   "metadata": {},
   "outputs": [
    {
     "data": {
      "text/plain": [
       "0.04742587317756678"
      ]
     },
     "execution_count": 10,
     "metadata": {},
     "output_type": "execute_result"
    }
   ],
   "source": [
    "# x = -3の時\n",
    "sigmoid(-3)"
   ]
  },
  {
   "cell_type": "markdown",
   "metadata": {},
   "source": [
    "**sigmoid関数は、入力した値が大きければ大きいほど1に近づき、入力した値が小さければ小さいほど0に近づく関数**"
   ]
  },
  {
   "cell_type": "markdown",
   "metadata": {},
   "source": [
    "# ReLU関数\n",
    "***\n",
    "$\n",
    "f(x) = \\left\\{\n",
    "\\begin{array}{}\n",
    "x & {(x \\geqq 0)}\\\\\n",
    "0 & {(x < 0)}\n",
    "\\end{array}\n",
    "\\right.\n",
    "$"
   ]
  },
  {
   "cell_type": "code",
   "execution_count": 13,
   "metadata": {
    "scrolled": true
   },
   "outputs": [
    {
     "name": "stdout",
     "output_type": "stream",
     "text": [
      "False\n"
     ]
    }
   ],
   "source": [
    "import numpy as np\n",
    "\n",
    "# relu関数の定義\n",
    "def relu(x):\n",
    "    y = x >= 0.0\n",
    "    return y\n",
    "\n",
    "# x = -1の時\n",
    "x = -1\n",
    "y = relu(x)\n",
    "print(y)"
   ]
  },
  {
   "cell_type": "code",
   "execution_count": 14,
   "metadata": {
    "scrolled": true
   },
   "outputs": [
    {
     "data": {
      "text/plain": [
       "True"
      ]
     },
     "execution_count": 14,
     "metadata": {},
     "output_type": "execute_result"
    }
   ],
   "source": [
    "# x = 10の時\n",
    "relu(10)"
   ]
  },
  {
   "cell_type": "markdown",
   "metadata": {},
   "source": [
    "**ReLU関数は、入力した値が0未満なら0が出力され、入力した値が0以上なら入力した値をそのまま出力する関数。**"
   ]
  },
  {
   "cell_type": "markdown",
   "metadata": {},
   "source": [
    "# 恒等関数\n",
    "***\n",
    "$\n",
    "f(x) = x\n",
    "$"
   ]
  },
  {
   "cell_type": "code",
   "execution_count": 15,
   "metadata": {
    "scrolled": true
   },
   "outputs": [
    {
     "name": "stdout",
     "output_type": "stream",
     "text": [
      "10\n"
     ]
    }
   ],
   "source": [
    "import numpy as np\n",
    "\n",
    "# 恒等関数の定義\n",
    "def koutou(x):\n",
    "    return x # 入力値をそのまま返すのでreturn x\n",
    "\n",
    "# x = 10の時\n",
    "x = 10\n",
    "y = koutou(x)\n",
    "print(y)\n"
   ]
  },
  {
   "cell_type": "code",
   "execution_count": 18,
   "metadata": {
    "scrolled": true
   },
   "outputs": [
    {
     "data": {
      "text/plain": [
       "-100"
      ]
     },
     "execution_count": 18,
     "metadata": {},
     "output_type": "execute_result"
    }
   ],
   "source": [
    "# x = -100の時\n",
    "koutou(-100)"
   ]
  },
  {
   "cell_type": "markdown",
   "metadata": {
    "scrolled": true
   },
   "source": [
    "**恒等関数は、入力した値をそのまま出力する関数**"
   ]
  },
  {
   "cell_type": "markdown",
   "metadata": {},
   "source": [
    "# ソフトマックス関数\n",
    "***\n",
    "$\n",
    "y_i = \\frac{e^{x_i}}{\\sum_{k=1}^{n}e^{x_k}}　(i = 1, 2, 3,..., n)\n",
    "$"
   ]
  },
  {
   "cell_type": "code",
   "execution_count": 25,
   "metadata": {
    "scrolled": true
   },
   "outputs": [
    {
     "name": "stdout",
     "output_type": "stream",
     "text": [
      "[0.23861036 0.47572118 0.28566846]\n"
     ]
    }
   ],
   "source": [
    "import numpy as np\n",
    "\n",
    "# ソフトマックス関数の定義\n",
    "def softmax(x):\n",
    "    exp_x = np.exp(x)\n",
    "    sum_exp_x = np.sum(exp_x)\n",
    "    y = exp_x / sum_exp_x\n",
    "    return y\n",
    "\n",
    "x = ([0.2, 0.89, 0.38])\n",
    "y = softmax(x)\n",
    "print(y)"
   ]
  },
  {
   "cell_type": "code",
   "execution_count": 26,
   "metadata": {
    "scrolled": true
   },
   "outputs": [
    {
     "data": {
      "text/plain": [
       "array([0.20111065, 0.4897305 , 0.30915885])"
      ]
     },
     "execution_count": 26,
     "metadata": {},
     "output_type": "execute_result"
    }
   ],
   "source": [
    "softmax(x=[0.1, 0.99, 0.53])"
   ]
  },
  {
   "cell_type": "markdown",
   "metadata": {},
   "source": [
    "**ソフトマックス関数は、出力された複数の値の合計値が1.0(100%)になるように整理される関数。**"
   ]
  },
  {
   "cell_type": "markdown",
   "metadata": {},
   "source": [
    "# Leaky ReLU関数\n",
    "***\n",
    "$\n",
    "f = \\left\\{\n",
    "\\begin{array}{}\n",
    "x & {(x > 0)}\\\\\n",
    "ax & {(x \\leqq 0)}\n",
    "\\end{array}\n",
    "\\right.\\\\\n",
    "a = 0.01\n",
    "$"
   ]
  },
  {
   "cell_type": "code",
   "execution_count": 28,
   "metadata": {
    "scrolled": true
   },
   "outputs": [
    {
     "name": "stdout",
     "output_type": "stream",
     "text": [
      "-0.02\n"
     ]
    }
   ],
   "source": [
    "import numpy as np\n",
    "\n",
    "def lrelu(x, alpha=0.01):\n",
    "    y = np.where(x > 0.0, x, alpha*x)\n",
    "    return y\n",
    "\n",
    "# x = -2の時\n",
    "x = -2\n",
    "y = lrelu(x)\n",
    "print(y)"
   ]
  },
  {
   "cell_type": "code",
   "execution_count": 29,
   "metadata": {
    "scrolled": true
   },
   "outputs": [
    {
     "data": {
      "text/plain": [
       "array(10.)"
      ]
     },
     "execution_count": 29,
     "metadata": {},
     "output_type": "execute_result"
    }
   ],
   "source": [
    "# x = 10の時\n",
    "lrelu(10)"
   ]
  },
  {
   "cell_type": "markdown",
   "metadata": {},
   "source": [
    "**Leaky ReLU関数は0を起点として、入力した値が0以下ならalpha * x(Leaky ReLU関数では基本的にa=0.01)が出力され、入力した値が0より大きいなら入力した値をそのまま出力する関数。**"
   ]
  },
  {
   "cell_type": "markdown",
   "metadata": {},
   "source": [
    "# Parametric ReLU関数\n",
    "***\n",
    "$\n",
    "f = \\left\\{\n",
    "\\begin{array}{}\n",
    "x & {(x > 0)}\\\\\n",
    "ax & {(x \\leqq 0)}\n",
    "\\end{array}\n",
    "\\right.\\\\\n",
    "a=パラメーター\n",
    "$"
   ]
  },
  {
   "cell_type": "code",
   "execution_count": 31,
   "metadata": {
    "scrolled": true
   },
   "outputs": [
    {
     "name": "stdout",
     "output_type": "stream",
     "text": [
      "-5.0\n"
     ]
    }
   ],
   "source": [
    "import numpy as np\n",
    "\n",
    "# Parametric ReLU関数の定義\n",
    "def prelu(x, alpha=10):\n",
    "    y = np.where(x > 0.0, x, alpha*x)\n",
    "    return y\n",
    "\n",
    "# x = -5の時\n",
    "x = -0.5\n",
    "y = prelu(x)\n",
    "print(y)"
   ]
  },
  {
   "cell_type": "code",
   "execution_count": 32,
   "metadata": {},
   "outputs": [
    {
     "data": {
      "text/plain": [
       "array(5)"
      ]
     },
     "execution_count": 32,
     "metadata": {},
     "output_type": "execute_result"
    }
   ],
   "source": [
    "# x = 5の時\n",
    "prelu(5)"
   ]
  },
  {
   "cell_type": "markdown",
   "metadata": {},
   "source": [
    "**Parametric ReLU関数は0を起点として、入力する値が0以下ならalpha * a(Parametric ReLU関数は基本的にa=パラメーター)が出力され、入力した値が0より大きいなら入力した値をそのまま出力する関数**"
   ]
  },
  {
   "cell_type": "markdown",
   "metadata": {},
   "source": [
    "# Exponential Linear Units\n",
    "***\n",
    "$\n",
    "f = \\left\\{\n",
    "\\begin{array}{}\n",
    "x & {(x > 0)}\\\\\n",
    "a(e^{x} -1) & {(x \\leqq 0)}\n",
    "\\end{array}\n",
    "\\right.\\\\\n",
    "a = 1.0\n",
    "$"
   ]
  },
  {
   "cell_type": "code",
   "execution_count": 40,
   "metadata": {},
   "outputs": [
    {
     "name": "stdout",
     "output_type": "stream",
     "text": [
      "100.0\n"
     ]
    }
   ],
   "source": [
    "import numpy as np\n",
    "\n",
    "# Exponential Linear Unitsの定義\n",
    "def elu(x, alpha=1.0):\n",
    "    y = np.where(x > 0.0, x, alpha * (np.exp(x) - 1))\n",
    "    return y\n",
    "\n",
    "# x = 100\n",
    "x = 100\n",
    "y = elu(x)\n",
    "print(y)"
   ]
  },
  {
   "cell_type": "code",
   "execution_count": 44,
   "metadata": {
    "scrolled": true
   },
   "outputs": [
    {
     "data": {
      "text/plain": [
       "array(-0.9999546)"
      ]
     },
     "execution_count": 44,
     "metadata": {},
     "output_type": "execute_result"
    }
   ],
   "source": [
    "# x = -10\n",
    "elu(-10)"
   ]
  },
  {
   "cell_type": "markdown",
   "metadata": {},
   "source": [
    "**Exponential Linear Units関数は0を起点として、入力した値が0以下なら「0」~「-a」(Exponential Linear Units関数では基本的にa=1.0)の間の値を出力し、入力した値が0より大きいなら入力した値をそのまま出力する関数。**"
   ]
  },
  {
   "cell_type": "markdown",
   "metadata": {},
   "source": [
    "## np.where()を使った理由\n",
    "***\n",
    "**True(真)の場合xを返し、False(偽)の場合yを返す関数だから。**"
   ]
  }
 ],
 "metadata": {
  "kernelspec": {
   "display_name": "Python 3",
   "language": "python",
   "name": "python3"
  },
  "language_info": {
   "codemirror_mode": {
    "name": "ipython",
    "version": 3
   },
   "file_extension": ".py",
   "mimetype": "text/x-python",
   "name": "python",
   "nbconvert_exporter": "python",
   "pygments_lexer": "ipython3",
   "version": "3.8.0"
  }
 },
 "nbformat": 4,
 "nbformat_minor": 4
}
